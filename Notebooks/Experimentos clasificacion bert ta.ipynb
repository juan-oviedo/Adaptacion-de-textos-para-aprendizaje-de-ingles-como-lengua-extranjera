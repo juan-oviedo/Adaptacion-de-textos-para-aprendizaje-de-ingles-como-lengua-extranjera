{
 "cells": [
  {
   "cell_type": "markdown",
   "id": "72811b1b-76a3-4680-8172-7ed8091f0f80",
   "metadata": {},
   "source": [
    "## Imports"
   ]
  },
  {
   "cell_type": "code",
   "execution_count": null,
   "id": "a0937309-c454-4eec-b3b2-cb143ef94631",
   "metadata": {},
   "outputs": [],
   "source": [
    "import os\n",
    "import pandas as pd\n",
    "import sklearn.model_selection as sk\n",
    "import gc\n",
    "import transformers\n",
    "import torch\n",
    "import csv\n",
    "import re\n",
    "import subprocess\n",
    "from IPython.display import FileLink"
   ]
  },
  {
   "cell_type": "markdown",
   "id": "e6e8d8b8-040c-498c-8598-04adf2d34012",
   "metadata": {},
   "source": [
    "## Carga de datos y division del data set"
   ]
  },
  {
   "cell_type": "code",
   "execution_count": null,
   "id": "5e3fde47-842e-4b8c-8970-a092bdf960af",
   "metadata": {},
   "outputs": [],
   "source": [
    "# Check if the zip file is present and has been unzipped\n",
    "if not os.path.exists(\"cefr-levelled-english-texts.zip\"):\n",
    "    # Download the dataset if the zip file is not present\n",
    "    !kaggle datasets download -d amontgomerie/cefr-levelled-english-texts\n",
    "\n",
    "if not os.path.exists(\"cefr_leveled_texts.csv\"):  # Adjust this to match the folder name after unzipping\n",
    "    # Unzip the file if the unzipped folder does not exist\n",
    "    !unzip cefr-levelled-english-texts.zip"
   ]
  },
  {
   "cell_type": "code",
   "execution_count": null,
   "id": "0a4fd238-94bd-4be7-99fe-aa14b5b4f95a",
   "metadata": {},
   "outputs": [],
   "source": [
    "# Load the CSV file into a DataFrame\n",
    "df = pd.read_csv('cefr_leveled_texts.csv')\n",
    "\n",
    "# Get the minimum number of samples in any class\n",
    "min_samples = df['label'].value_counts().min()\n",
    "\n",
    "# Downsample each class to have the same number of samples as the smallest class\n",
    "df_balanced = df.groupby('label').apply(lambda x: x.sample(n=min_samples, random_state=60)).reset_index(drop=True)\n",
    "\n",
    "distribution = df_balanced['label'].value_counts()\n",
    "train, div = sk.train_test_split(df_balanced, test_size=0.2, random_state=70)\n",
    "dev, holdout = sk.train_test_split(div, test_size=0.5, random_state=50)\n",
    "#holdout, dev = sk.train_test_split(div, test_size=0.08, random_state=50)\n",
    "\n",
    "train = train.reset_index(drop=True)\n",
    "div = div.reset_index(drop=True)\n",
    "holdout = holdout.reset_index(drop=True)\n",
    "\n",
    "textos_metricas = pd.concat([dev, train])"
   ]
  },
  {
   "cell_type": "markdown",
   "id": "330b8cc9-ee5a-4586-963f-6502332d4a75",
   "metadata": {},
   "source": [
    "## Carga del modelo"
   ]
  },
  {
   "cell_type": "code",
   "execution_count": null,
   "id": "7df49016-0f23-4037-96f8-c9c535c1f2e4",
   "metadata": {},
   "outputs": [],
   "source": [
    "model_name = \"tareknaous/readabert-en\"\n",
    "\n",
    "device = \"cuda\"\n",
    "\n",
    "classifier = transformers.pipeline(\n",
    "  \"text-classification\",\n",
    "  model=model_name,\n",
    "  truncation=True,\n",
    "  device=device  \n",
    ")"
   ]
  },
  {
   "cell_type": "markdown",
   "id": "88f7d005-7250-454b-b6ca-37843efe2406",
   "metadata": {},
   "source": [
    "## Ejecucion del experimento"
   ]
  },
  {
   "cell_type": "code",
   "execution_count": null,
   "id": "03782022-8646-40f6-b1b9-dc8b991810cf",
   "metadata": {},
   "outputs": [],
   "source": [
    "label_mapping = {\n",
    "    'LABEL_1': 'A1',\n",
    "    'LABEL_2': 'A2',\n",
    "    'LABEL_3': 'B1',\n",
    "    'LABEL_4': 'B2',\n",
    "    'LABEL_5': 'C1',\n",
    "    'LABEL_6': 'C2'\n",
    "}"
   ]
  },
  {
   "cell_type": "code",
   "execution_count": null,
   "id": "e13eeb1f-cb82-462a-8740-be96f2a0a31e",
   "metadata": {},
   "outputs": [],
   "source": [
    "gc.collect()\n",
    "\n",
    "filename =f'experimento_bert_ta.csv'\n",
    "batch_texts = textos_metricas['text']\n",
    "predicted_labels = []\n",
    "\n",
    "for text in batch_texts:\n",
    "    predictions = classifier.predict(text)\n",
    "\n",
    "    # Extract label and score\n",
    "    label = predictions[0]['label']\n",
    "    score = predictions[0]['score']\n",
    "\n",
    "    # Map the label to its corresponding CEFR level using the dictionary\n",
    "    cefr_label = label_mapping.get(label, label)  # Use the mapping, fallback to original if not found\n",
    "    predicted_labels.append((cefr_label, score))\n",
    "\n",
    "    torch.cuda.empty_cache()\n",
    "    del predictions  # Delete the output after each step to free memory\n",
    "    gc.collect()\n",
    "\n",
    "\n",
    "with open(filename, 'w', newline='') as csvfile:\n",
    "    writer = csv.writer(csvfile)\n",
    "    writer.writerow(['Predicted Label', 'Score'])\n",
    "    for label, score in predicted_labels:\n",
    "        writer.writerow([label, score])\n",
    "\n",
    "FileLink(filename)"
   ]
  }
 ],
 "metadata": {
  "kernelspec": {
   "display_name": "Python 3 (ipykernel)",
   "language": "python",
   "name": "python3"
  },
  "language_info": {
   "codemirror_mode": {
    "name": "ipython",
    "version": 3
   },
   "file_extension": ".py",
   "mimetype": "text/x-python",
   "name": "python",
   "nbconvert_exporter": "python",
   "pygments_lexer": "ipython3",
   "version": "3.12.3"
  }
 },
 "nbformat": 4,
 "nbformat_minor": 5
}

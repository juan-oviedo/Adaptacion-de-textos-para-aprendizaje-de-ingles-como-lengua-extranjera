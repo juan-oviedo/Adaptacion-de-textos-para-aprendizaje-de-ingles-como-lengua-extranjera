{
 "cells": [
  {
   "cell_type": "markdown",
   "id": "90044b59-86da-4660-9762-a96104f24dc5",
   "metadata": {},
   "source": [
    "## Imports"
   ]
  },
  {
   "cell_type": "code",
   "execution_count": null,
   "id": "56ac2b3c-0b32-468e-8996-edf122b0eaef",
   "metadata": {},
   "outputs": [],
   "source": [
    "import os\n",
    "import pandas as pd\n",
    "import sklearn.model_selection as sk\n",
    "import gc\n",
    "import transformers\n",
    "import torch\n",
    "import csv\n",
    "import re\n",
    "import subprocess\n",
    "from IPython.display import FileLink"
   ]
  },
  {
   "cell_type": "markdown",
   "id": "c098dc81-2588-4f65-9b06-741362e02819",
   "metadata": {},
   "source": [
    "## Carga de datos y division del data set"
   ]
  },
  {
   "cell_type": "code",
   "execution_count": null,
   "id": "42d9b6e1-968e-49fb-9f64-3c4b1ef41de2",
   "metadata": {},
   "outputs": [],
   "source": [
    "# Check if the zip file is present and has been unzipped\n",
    "if not os.path.exists(\"cefr-levelled-english-texts.zip\"):\n",
    "    # Download the dataset if the zip file is not present\n",
    "    !kaggle datasets download -d amontgomerie/cefr-levelled-english-texts\n",
    "\n",
    "if not os.path.exists(\"cefr_leveled_texts.csv\"):  # Adjust this to match the folder name after unzipping\n",
    "    # Unzip the file if the unzipped folder does not exist\n",
    "    !unzip cefr-levelled-english-texts.zip"
   ]
  },
  {
   "cell_type": "code",
   "execution_count": null,
   "id": "f920924d-4a0f-4d3f-8b3e-b1a24f60baa4",
   "metadata": {},
   "outputs": [],
   "source": [
    "# Load the CSV file into a DataFrame\n",
    "df = pd.read_csv('cefr_leveled_texts.csv')\n",
    "\n",
    "# Get the minimum number of samples in any class\n",
    "min_samples = df['label'].value_counts().min()\n",
    "\n",
    "# Downsample each class to have the same number of samples as the smallest class\n",
    "df_balanced = df.groupby('label').apply(lambda x: x.sample(n=min_samples, random_state=60)).reset_index(drop=True)\n",
    "\n",
    "distribution = df_balanced['label'].value_counts()\n",
    "train, div = sk.train_test_split(df_balanced, test_size=0.2, random_state=70)\n",
    "dev, holdout = sk.train_test_split(div, test_size=0.5, random_state=50)\n",
    "#holdout, dev = sk.train_test_split(div, test_size=0.08, random_state=50)\n",
    "\n",
    "train = train.reset_index(drop=True)\n",
    "div = div.reset_index(drop=True)\n",
    "holdout = holdout.reset_index(drop=True)\n",
    "\n",
    "textos_metricas = pd.concat([dev, train])"
   ]
  },
  {
   "cell_type": "markdown",
   "id": "2a9e2421-58be-4dac-aa9c-b5947f727958",
   "metadata": {},
   "source": [
    "## Carga del modelo"
   ]
  },
  {
   "cell_type": "code",
   "execution_count": null,
   "id": "10edd3f7-c603-4668-bf58-c053d36c3ed8",
   "metadata": {},
   "outputs": [],
   "source": [
    "model_name = \"AbdulSami/bert-base-cased-cefr\"\n",
    "\n",
    "device = \"cuda\"\n",
    "\n",
    "classifier = transformers.pipeline(\n",
    "  \"text-classification\",\n",
    "  model=model_name,\n",
    "  truncation=True,\n",
    "  device=device  \n",
    ")"
   ]
  },
  {
   "cell_type": "markdown",
   "id": "c473e3bc-09bd-4d26-acb8-770145bdc0c7",
   "metadata": {},
   "source": [
    "## Ejecucion del experimento"
   ]
  },
  {
   "cell_type": "code",
   "execution_count": null,
   "id": "b8479e10-f894-405d-b0d4-3feb9d912831",
   "metadata": {},
   "outputs": [],
   "source": [
    "gc.collect()\n",
    "\n",
    "filename =f'experimento_bert_ab.csv'\n",
    "batch_texts = textos_metricas['text']\n",
    "predicted_labels = []\n",
    "\n",
    "for text in batch_texts:\n",
    "    predictions = classifier(text)\n",
    "\n",
    "    # Extract label and score\n",
    "    label = predictions[0]['label']\n",
    "    score = predictions[0]['score']\n",
    "\n",
    "    # Append the label and score as a tuple to the list\n",
    "    predicted_labels.append((label, score))\n",
    "\n",
    "    torch.cuda.empty_cache()\n",
    "    del predictions  # Delete the output after each step to free memory\n",
    "    gc.collect()\n",
    "\n",
    "\n",
    "with open(filename, 'w', newline='') as csvfile:\n",
    "    writer = csv.writer(csvfile)\n",
    "    writer.writerow(['Predicted Label', 'Score'])\n",
    "    for label, score in predicted_labels:\n",
    "        writer.writerow([label, score])\n",
    "\n",
    "FileLink(filename)"
   ]
  }
 ],
 "metadata": {
  "kernelspec": {
   "display_name": "Python 3 (ipykernel)",
   "language": "python",
   "name": "python3"
  },
  "language_info": {
   "codemirror_mode": {
    "name": "ipython",
    "version": 3
   },
   "file_extension": ".py",
   "mimetype": "text/x-python",
   "name": "python",
   "nbconvert_exporter": "python",
   "pygments_lexer": "ipython3",
   "version": "3.12.3"
  }
 },
 "nbformat": 4,
 "nbformat_minor": 5
}
